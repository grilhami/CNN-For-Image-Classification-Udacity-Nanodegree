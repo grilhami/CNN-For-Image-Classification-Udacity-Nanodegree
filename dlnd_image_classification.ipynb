{
 "cells": [
  {
   "cell_type": "markdown",
   "metadata": {
    "collapsed": true,
    "deletable": true,
    "editable": true
   },
   "source": [
    "# Image Classification\n",
    "In this project, you'll classify images from the [CIFAR-10 dataset](https://www.cs.toronto.edu/~kriz/cifar.html).  The dataset consists of airplanes, dogs, cats, and other objects. You'll preprocess the images, then train a convolutional neural network on all the samples. The images need to be normalized and the labels need to be one-hot encoded.  You'll get to apply what you learned and build a convolutional, max pooling, dropout, and fully connected layers.  At the end, you'll get to see your neural network's predictions on the sample images.\n",
    "## Get the Data\n",
    "Run the following cell to download the [CIFAR-10 dataset for python](https://www.cs.toronto.edu/~kriz/cifar-10-python.tar.gz)."
   ]
  },
  {
   "cell_type": "code",
   "execution_count": 1,
   "metadata": {
    "collapsed": false,
    "deletable": true,
    "editable": true
   },
   "outputs": [
    {
     "name": "stdout",
     "output_type": "stream",
     "text": [
      "All files found!\n"
     ]
    }
   ],
   "source": [
    "\"\"\"\n",
    "DON'T MODIFY ANYTHING IN THIS CELL THAT IS BELOW THIS LINE\n",
    "\"\"\"\n",
    "from urllib.request import urlretrieve\n",
    "from os.path import isfile, isdir\n",
    "from tqdm import tqdm\n",
    "import problem_unittests as tests\n",
    "import tarfile\n",
    "\n",
    "cifar10_dataset_folder_path = 'cifar-10-batches-py'\n",
    "\n",
    "# Use Floyd's cifar-10 dataset if present\n",
    "floyd_cifar10_location = '/input/cifar-10/python.tar.gz'\n",
    "if isfile(floyd_cifar10_location):\n",
    "    tar_gz_path = floyd_cifar10_location\n",
    "else:\n",
    "    tar_gz_path = 'cifar-10-python.tar.gz'\n",
    "\n",
    "class DLProgress(tqdm):\n",
    "    last_block = 0\n",
    "\n",
    "    def hook(self, block_num=1, block_size=1, total_size=None):\n",
    "        self.total = total_size\n",
    "        self.update((block_num - self.last_block) * block_size)\n",
    "        self.last_block = block_num\n",
    "\n",
    "if not isfile(tar_gz_path):\n",
    "    with DLProgress(unit='B', unit_scale=True, miniters=1, desc='CIFAR-10 Dataset') as pbar:\n",
    "        urlretrieve(\n",
    "            'https://www.cs.toronto.edu/~kriz/cifar-10-python.tar.gz',\n",
    "            tar_gz_path,\n",
    "            pbar.hook)\n",
    "\n",
    "if not isdir(cifar10_dataset_folder_path):\n",
    "    with tarfile.open(tar_gz_path) as tar:\n",
    "        tar.extractall()\n",
    "        tar.close()\n",
    "\n",
    "\n",
    "tests.test_folder_path(cifar10_dataset_folder_path)"
   ]
  },
  {
   "cell_type": "markdown",
   "metadata": {
    "deletable": true,
    "editable": true
   },
   "source": [
    "## Explore the Data\n",
    "The dataset is broken into batches to prevent your machine from running out of memory.  The CIFAR-10 dataset consists of 5 batches, named `data_batch_1`, `data_batch_2`, etc.. Each batch contains the labels and images that are one of the following:\n",
    "* airplane\n",
    "* automobile\n",
    "* bird\n",
    "* cat\n",
    "* deer\n",
    "* dog\n",
    "* frog\n",
    "* horse\n",
    "* ship\n",
    "* truck\n",
    "\n",
    "Understanding a dataset is part of making predictions on the data.  Play around with the code cell below by changing the `batch_id` and `sample_id`. The `batch_id` is the id for a batch (1-5). The `sample_id` is the id for a image and label pair in the batch.\n",
    "\n",
    "Ask yourself \"What are all possible labels?\", \"What is the range of values for the image data?\", \"Are the labels in order or random?\".  Answers to questions like these will help you preprocess the data and end up with better predictions."
   ]
  },
  {
   "cell_type": "code",
   "execution_count": 2,
   "metadata": {
    "collapsed": false,
    "deletable": true,
    "editable": true
   },
   "outputs": [
    {
     "name": "stdout",
     "output_type": "stream",
     "text": [
      "\n",
      "Stats of batch 1:\n",
      "Samples: 10000\n",
      "Label Counts: {0: 1005, 1: 974, 2: 1032, 3: 1016, 4: 999, 5: 937, 6: 1030, 7: 1001, 8: 1025, 9: 981}\n",
      "First 20 Labels: [6, 9, 9, 4, 1, 1, 2, 7, 8, 3, 4, 7, 7, 2, 9, 9, 9, 3, 2, 6]\n",
      "\n",
      "Example of Image 5:\n",
      "Image - Min Value: 0 Max Value: 252\n",
      "Image - Shape: (32, 32, 3)\n",
      "Label - Label Id: 1 Name: automobile\n"
     ]
    },
    {
     "data": {
      "image/png": "[encoded data removed]",
      "text/plain": [
       "<matplotlib.figure.Figure at 0x7f74c8679908>"
      ]
     },
     "metadata": {
      "image/png": {
       "height": 250,
       "width": 253
      }
     },
     "output_type": "display_data"
    }
   ],
   "source": [
    "%matplotlib inline\n",
    "%config InlineBackend.figure_format = 'retina'\n",
    "\n",
    "import helper\n",
    "import numpy as np\n",
    "\n",
    "# Explore the dataset\n",
    "batch_id = 1\n",
    "sample_id = 5\n",
    "helper.display_stats(cifar10_dataset_folder_path, batch_id, sample_id)"
   ]
  },
  {
   "cell_type": "markdown",
   "metadata": {
    "deletable": true,
    "editable": true
   },
   "source": [
    "## Implement Preprocess Functions\n",
    "### Normalize\n",
    "In the cell below, implement the `normalize` function to take in image data, `x`, and return it as a normalized Numpy array. The values should be in the range of 0 to 1, inclusive.  The return object should be the same shape as `x`."
   ]
  },
  {
   "cell_type": "code",
   "execution_count": 3,
   "metadata": {
    "collapsed": false,
    "deletable": true,
    "editable": true
   },
   "outputs": [
    {
     "name": "stdout",
     "output_type": "stream",
     "text": [
      "Tests Passed\n"
     ]
    }
   ],
   "source": [
    "def normalize(x):\n",
    "    \"\"\"\n",
    "    Normalize a list of sample image data in the range of 0 to 1\n",
    "    : x: List of image data.  The image shape is (32, 32, 3)\n",
    "    : return: Numpy array of normalize data\n",
    "    \"\"\"\n",
    "    # TODO: Implement Function\n",
    "    x_for_min = np.min(x)\n",
    "    x_for_max = np.max(x)\n",
    "    return (x - x_for_min) / (x_for_max - x_for_min)\n",
    "\n",
    "\n",
    "\"\"\"\n",
    "DON'T MODIFY ANYTHING IN THIS CELL THAT IS BELOW THIS LINE\n",
    "\"\"\"\n",
    "tests.test_normalize(normalize)"
   ]
  },
  {
   "cell_type": "markdown",
   "metadata": {
    "deletable": true,
    "editable": true
   },
   "source": [
    "### One-hot encode\n",
    "Just like the previous code cell, you'll be implementing a function for preprocessing.  This time, you'll implement the `one_hot_encode` function. The input, `x`, are a list of labels.  Implement the function to return the list of labels as One-Hot encoded Numpy array.  The possible values for labels are 0 to 9. The one-hot encoding function should return the same encoding for each value between each call to `one_hot_encode`.  Make sure to save the map of encodings outside the function.\n",
    "\n",
    "Hint: Don't reinvent the wheel."
   ]
  },
  {
   "cell_type": "code",
   "execution_count": 4,
   "metadata": {
    "collapsed": false,
    "deletable": true,
    "editable": true
   },
   "outputs": [
    {
     "name": "stdout",
     "output_type": "stream",
     "text": [
      "Tests Passed\n"
     ]
    }
   ],
   "source": [
    "# Import dependency for preprocessing\n",
    "from sklearn import preprocessing\n",
    "one_hot = None\n",
    "\n",
    "def one_hot_encode(x):\n",
    "    \"\"\"\n",
    "    One hot encode a list of sample labels. Return a one-hot encoded vector for each label.\n",
    "    : x: List of sample Labels\n",
    "    : return: Numpy array of one-hot encoded labels\n",
    "    \"\"\"\n",
    "    # TODO: Implement Function\n",
    "    global one_hot\n",
    "    if one_hot is None:\n",
    "        one_hot = preprocessing.LabelBinarizer()\n",
    "        one_hot.fit(x)\n",
    "\n",
    "    encoding = one_hot.transform(x)\n",
    "    return encoding\n",
    "\n",
    "\n",
    "\"\"\"\n",
    "DON'T MODIFY ANYTHING IN THIS CELL THAT IS BELOW THIS LINE\n",
    "\"\"\"\n",
    "tests.test_one_hot_encode(one_hot_encode)"
   ]
  },
  {
   "cell_type": "markdown",
   "metadata": {
    "deletable": true,
    "editable": true
   },
   "source": [
    "### Randomize Data\n",
    "As you saw from exploring the data above, the order of the samples are randomized.  It doesn't hurt to randomize it again, but you don't need to for this dataset."
   ]
  },
  {
   "cell_type": "markdown",
   "metadata": {
    "deletable": true,
    "editable": true
   },
   "source": [
    "## Preprocess all the data and save it\n",
    "Running the code cell below will preprocess all the CIFAR-10 data and save it to file. The code below also uses 10% of the training data for validation."
   ]
  },
  {
   "cell_type": "code",
   "execution_count": 5,
   "metadata": {
    "collapsed": false,
    "deletable": true,
    "editable": true
   },
   "outputs": [],
   "source": [
    "\"\"\"\n",
    "DON'T MODIFY ANYTHING IN THIS CELL\n",
    "\"\"\"\n",
    "# Preprocess Training, Validation, and Testing Data\n",
    "helper.preprocess_and_save_data(cifar10_dataset_folder_path, normalize, one_hot_encode)"
   ]
  },
  {
   "cell_type": "markdown",
   "metadata": {
    "deletable": true,
    "editable": true
   },
   "source": [
    "# Check Point\n",
    "This is your first checkpoint.  If you ever decide to come back to this notebook or have to restart the notebook, you can start from here.  The preprocessed data has been saved to disk."
   ]
  },
  {
   "cell_type": "code",
   "execution_count": 6,
   "metadata": {
    "collapsed": true,
    "deletable": true,
    "editable": true
   },
   "outputs": [],
   "source": [
    "\"\"\"\n",
    "DON'T MODIFY ANYTHING IN THIS CELL\n",
    "\"\"\"\n",
    "import pickle\n",
    "import problem_unittests as tests\n",
    "import helper\n",
    "\n",
    "# Load the Preprocessed Validation data\n",
    "valid_features, valid_labels = pickle.load(open('preprocess_validation.p', mode='rb'))"
   ]
  },
  {
   "cell_type": "markdown",
   "metadata": {
    "deletable": true,
    "editable": true
   },
   "source": [
    "## Build the network\n",
    "For the neural network, you'll build each layer into a function.  Most of the code you've seen has been outside of functions. To test your code more thoroughly, we require that you put each layer in a function.  This allows us to give you better feedback and test for simple mistakes using our unittests before you submit your project.\n",
    "\n",
    ">**Note:** If you're finding it hard to dedicate enough time for this course each week, we've provided a small shortcut to this part of the project. In the next couple of problems, you'll have the option to use classes from the [TensorFlow Layers](https://www.tensorflow.org/api_docs/python/tf/layers) or [TensorFlow Layers (contrib)](https://www.tensorflow.org/api_guides/python/contrib.layers) packages to build each layer, except the layers you build in the \"Convolutional and Max Pooling Layer\" section.  TF Layers is similar to Keras's and TFLearn's abstraction to layers, so it's easy to pickup.\n",
    "\n",
    ">However, if you would like to get the most out of this course, try to solve all the problems _without_ using anything from the TF Layers packages. You **can** still use classes from other packages that happen to have the same name as ones you find in TF Layers! For example, instead of using the TF Layers version of the `conv2d` class, [tf.layers.conv2d](https://www.tensorflow.org/api_docs/python/tf/layers/conv2d), you would want to use the TF Neural Network version of `conv2d`, [tf.nn.conv2d](https://www.tensorflow.org/api_docs/python/tf/nn/conv2d). \n",
    "\n",
    "Let's begin!\n",
    "\n",
    "### Input\n",
    "The neural network needs to read the image data, one-hot encoded labels, and dropout keep probability. Implement the following functions\n",
    "* Implement `neural_net_image_input`\n",
    " * Return a [TF Placeholder](https://www.tensorflow.org/api_docs/python/tf/placeholder)\n",
    " * Set the shape using `image_shape` with batch size set to `None`.\n",
    " * Name the TensorFlow placeholder \"x\" using the TensorFlow `name` parameter in the [TF Placeholder](https://www.tensorflow.org/api_docs/python/tf/placeholder).\n",
    "* Implement `neural_net_label_input`\n",
    " * Return a [TF Placeholder](https://www.tensorflow.org/api_docs/python/tf/placeholder)\n",
    " * Set the shape using `n_classes` with batch size set to `None`.\n",
    " * Name the TensorFlow placeholder \"y\" using the TensorFlow `name` parameter in the [TF Placeholder](https://www.tensorflow.org/api_docs/python/tf/placeholder).\n",
    "* Implement `neural_net_keep_prob_input`\n",
    " * Return a [TF Placeholder](https://www.tensorflow.org/api_docs/python/tf/placeholder) for dropout keep probability.\n",
    " * Name the TensorFlow placeholder \"keep_prob\" using the TensorFlow `name` parameter in the [TF Placeholder](https://www.tensorflow.org/api_docs/python/tf/placeholder).\n",
    "\n",
    "These names will be used at the end of the project to load your saved model.\n",
    "\n",
    "Note: `None` for shapes in TensorFlow allow for a dynamic size."
   ]
  },
  {
   "cell_type": "code",
   "execution_count": 7,
   "metadata": {
    "collapsed": false,
    "deletable": true,
    "editable": true
   },
   "outputs": [
    {
     "name": "stdout",
     "output_type": "stream",
     "text": [
      "Image Input Tests Passed.\n",
      "Label Input Tests Passed.\n",
      "Keep Prob Tests Passed.\n"
     ]
    }
   ],
   "source": [
    "import tensorflow as tf\n",
    "\n",
    "def neural_net_image_input(image_shape):\n",
    "    \"\"\"\n",
    "    Return a Tensor for a bach of image input\n",
    "    : image_shape: Shape of the images\n",
    "    : return: Tensor for image input.\n",
    "    \"\"\"\n",
    "    # TODO: Implement Function\n",
    "    return tf.placeholder(tf.float32, [None, 32, 32, 3], name='x')\n",
    "\n",
    "\n",
    "def neural_net_label_input(n_classes):\n",
    "    \"\"\"\n",
    "    Return a Tensor for a batch of label input\n",
    "    : n_classes: Number of classes\n",
    "    : return: Tensor for label input.\n",
    "    \"\"\"\n",
    "    # TODO: Implement Function\n",
    "    return tf.placeholder(tf.float32, [None, n_classes], name='y')\n",
    "\n",
    "\n",
    "def neural_net_keep_prob_input():\n",
    "    \"\"\"\n",
    "    Return a Tensor for keep probability\n",
    "    : return: Tensor for keep probability.\n",
    "    \"\"\"\n",
    "    # TODO: Implement Function\n",
    "    return tf.placeholder(tf.float32, name='keep_prob')\n",
    "\n",
    "\n",
    "\"\"\"\n",
    "DON'T MODIFY ANYTHING IN THIS CELL THAT IS BELOW THIS LINE\n",
    "\"\"\"\n",
    "tf.reset_default_graph()\n",
    "tests.test_nn_image_inputs(neural_net_image_input)\n",
    "tests.test_nn_label_inputs(neural_net_label_input)\n",
    "tests.test_nn_keep_prob_inputs(neural_net_keep_prob_input)"
   ]
  },
  {
   "cell_type": "markdown",
   "metadata": {
    "deletable": true,
    "editable": true
   },
   "source": [
    "### Convolution and Max Pooling Layer\n",
    "Convolution layers have a lot of success with images. For this code cell, you should implement the function `conv2d_maxpool` to apply convolution then max pooling:\n",
    "* Create the weight and bias using `conv_ksize`, `conv_num_outputs` and the shape of `x_tensor`.\n",
    "* Apply a convolution to `x_tensor` using weight and `conv_strides`.\n",
    " * We recommend you use same padding, but you're welcome to use any padding.\n",
    "* Add bias\n",
    "* Add a nonlinear activation to the convolution.\n",
    "* Apply Max Pooling using `pool_ksize` and `pool_strides`.\n",
    " * We recommend you use same padding, but you're welcome to use any padding.\n",
    "\n",
    "**Note:** You **can't** use [TensorFlow Layers](https://www.tensorflow.org/api_docs/python/tf/layers) or [TensorFlow Layers (contrib)](https://www.tensorflow.org/api_guides/python/contrib.layers) for **this** layer, but you can still use TensorFlow's [Neural Network](https://www.tensorflow.org/api_docs/python/tf/nn) package. You may still use the shortcut option for all the **other** layers."
   ]
  },
  {
   "cell_type": "code",
   "execution_count": 8,
   "metadata": {
    "collapsed": false,
    "deletable": true,
    "editable": true
   },
   "outputs": [
    {
     "name": "stdout",
     "output_type": "stream",
     "text": [
      "Tests Passed\n"
     ]
    }
   ],
   "source": [
    "def conv2d_maxpool(x_tensor, conv_num_outputs, conv_ksize, conv_strides, pool_ksize, pool_strides):\n",
    "    \"\"\"\n",
    "    Apply convolution then max pooling to x_tensor\n",
    "    :param x_tensor: TensorFlow Tensor\n",
    "    :param conv_num_outputs: Number of outputs for the convolutional layer\n",
    "    :param conv_ksize: kernal size 2-D Tuple for the convolutional layer\n",
    "    :param conv_strides: Stride 2-D Tuple for convolution\n",
    "    :param pool_ksize: kernal size 2-D Tuple for pool\n",
    "    :param pool_strides: Stride 2-D Tuple for pool\n",
    "    : return: A tensor that represents convolution and max pooling of x_tensor\n",
    "    \"\"\"\n",
    "    # TODO: Implement Function\n",
    "    weights = tf.Variable(tf.truncated_normal(\n",
    "                (conv_ksize[0], conv_ksize[1], x_tensor.get_shape().as_list()[3], conv_num_outputs), stddev=0.01))\n",
    "    biases = tf.Variable(tf.zeros([conv_num_outputs]))\n",
    "    x = tf.nn.conv2d(x_tensor, weights, strides=[1, conv_strides[0], conv_strides[1], 1], padding='SAME')\n",
    "    x = tf.nn.bias_add(x, biases)\n",
    "    x = tf.nn.relu(x)\n",
    "    return tf.nn.max_pool(x, ksize=[1, pool_ksize[0], pool_ksize[1], 1], strides=[1, pool_strides[0], pool_strides[1], 1], padding='SAME')\n",
    "\n",
    "\n",
    "\"\"\"\n",
    "DON'T MODIFY ANYTHING IN THIS CELL THAT IS BELOW THIS LINE\n",
    "\"\"\"\n",
    "tests.test_con_pool(conv2d_maxpool)"
   ]
  },
  {
   "cell_type": "markdown",
   "metadata": {
    "deletable": true,
    "editable": true
   },
   "source": [
    "### Flatten Layer\n",
    "Implement the `flatten` function to change the dimension of `x_tensor` from a 4-D tensor to a 2-D tensor.  The output should be the shape (*Batch Size*, *Flattened Image Size*). Shortcut option: you can use classes from the [TensorFlow Layers](https://www.tensorflow.org/api_docs/python/tf/layers) or [TensorFlow Layers (contrib)](https://www.tensorflow.org/api_guides/python/contrib.layers) packages for this layer. For more of a challenge, only use other TensorFlow packages."
   ]
  },
  {
   "cell_type": "code",
   "execution_count": 9,
   "metadata": {
    "collapsed": false,
    "deletable": true,
    "editable": true
   },
   "outputs": [
    {
     "name": "stdout",
     "output_type": "stream",
     "text": [
      "Tests Passed\n"
     ]
    }
   ],
   "source": [
    "def flatten(x_tensor):\n",
    "    \"\"\"\n",
    "    Flatten x_tensor to (Batch Size, Flattened Image Size)\n",
    "    : x_tensor: A tensor of size (Batch Size, ...), where ... are the image dimensions.\n",
    "    : return: A tensor of size (Batch Size, Flattened Image Size).\n",
    "    \"\"\"\n",
    "    # TODO: Implement Function\n",
    "    return tf.contrib.layers.flatten(x_tensor)\n",
    "\n",
    "\n",
    "\"\"\"\n",
    "DON'T MODIFY ANYTHING IN THIS CELL THAT IS BELOW THIS LINE\n",
    "\"\"\"\n",
    "tests.test_flatten(flatten)"
   ]
  },
  {
   "cell_type": "markdown",
   "metadata": {
    "deletable": true,
    "editable": true
   },
   "source": [
    "### Fully-Connected Layer\n",
    "Implement the `fully_conn` function to apply a fully connected layer to `x_tensor` with the shape (*Batch Size*, *num_outputs*). Shortcut option: you can use classes from the [TensorFlow Layers](https://www.tensorflow.org/api_docs/python/tf/layers) or [TensorFlow Layers (contrib)](https://www.tensorflow.org/api_guides/python/contrib.layers) packages for this layer. For more of a challenge, only use other TensorFlow packages."
   ]
  },
  {
   "cell_type": "code",
   "execution_count": 10,
   "metadata": {
    "collapsed": false,
    "deletable": true,
    "editable": true
   },
   "outputs": [
    {
     "name": "stdout",
     "output_type": "stream",
     "text": [
      "Tests Passed\n"
     ]
    }
   ],
   "source": [
    "def fully_conn(x_tensor, num_outputs):\n",
    "    \"\"\"\n",
    "    Apply a fully connected layer to x_tensor using weight and bias\n",
    "    : x_tensor: A 2-D tensor where the first dimension is batch size.\n",
    "    : num_outputs: The number of output that the new tensor should be.\n",
    "    : return: A 2-D tensor where the second dimension is num_outputs.\n",
    "    \"\"\"\n",
    "    # TODO: Implement Function\n",
    "    return tf.contrib.layers.fully_connected(x_tensor, num_outputs, activation_fn=tf.nn.relu)\n",
    "\n",
    "\n",
    "\"\"\"\n",
    "DON'T MODIFY ANYTHING IN THIS CELL THAT IS BELOW THIS LINE\n",
    "\"\"\"\n",
    "tests.test_fully_conn(fully_conn)"
   ]
  },
  {
   "cell_type": "markdown",
   "metadata": {
    "deletable": true,
    "editable": true
   },
   "source": [
    "### Output Layer\n",
    "Implement the `output` function to apply a fully connected layer to `x_tensor` with the shape (*Batch Size*, *num_outputs*). Shortcut option: you can use classes from the [TensorFlow Layers](https://www.tensorflow.org/api_docs/python/tf/layers) or [TensorFlow Layers (contrib)](https://www.tensorflow.org/api_guides/python/contrib.layers) packages for this layer. For more of a challenge, only use other TensorFlow packages.\n",
    "\n",
    "**Note:** Activation, softmax, or cross entropy should **not** be applied to this."
   ]
  },
  {
   "cell_type": "code",
   "execution_count": 11,
   "metadata": {
    "collapsed": false,
    "deletable": true,
    "editable": true
   },
   "outputs": [
    {
     "name": "stdout",
     "output_type": "stream",
     "text": [
      "Tests Passed\n"
     ]
    }
   ],
   "source": [
    "def output(x_tensor, num_outputs):\n",
    "    \"\"\"\n",
    "    Apply a output layer to x_tensor using weight and bias\n",
    "    : x_tensor: A 2-D tensor where the first dimension is batch size.\n",
    "    : num_outputs: The number of output that the new tensor should be.\n",
    "    : return: A 2-D tensor where the second dimension is num_outputs.\n",
    "    \"\"\"\n",
    "    # TODO: Implement Function\n",
    "    return tf.contrib.layers.fully_connected(x_tensor, num_outputs, activation_fn=None)\n",
    "\n",
    "\n",
    "\"\"\"\n",
    "DON'T MODIFY ANYTHING IN THIS CELL THAT IS BELOW THIS LINE\n",
    "\"\"\"\n",
    "tests.test_output(output)"
   ]
  },
  {
   "cell_type": "markdown",
   "metadata": {
    "deletable": true,
    "editable": true
   },
   "source": [
    "### Create Convolutional Model\n",
    "Implement the function `conv_net` to create a convolutional neural network model. The function takes in a batch of images, `x`, and outputs logits.  Use the layers you created above to create this model:\n",
    "\n",
    "* Apply 1, 2, or 3 Convolution and Max Pool layers\n",
    "* Apply a Flatten Layer\n",
    "* Apply 1, 2, or 3 Fully Connected Layers\n",
    "* Apply an Output Layer\n",
    "* Return the output\n",
    "* Apply [TensorFlow's Dropout](https://www.tensorflow.org/api_docs/python/tf/nn/dropout) to one or more layers in the model using `keep_prob`. "
   ]
  },
  {
   "cell_type": "code",
   "execution_count": 12,
   "metadata": {
    "collapsed": false,
    "deletable": true,
    "editable": true
   },
   "outputs": [
    {
     "name": "stdout",
     "output_type": "stream",
     "text": [
      "Neural Network Built!\n"
     ]
    }
   ],
   "source": [
    "def conv_net(x, keep_prob):\n",
    "    \"\"\"\n",
    "    Create a convolutional neural network model\n",
    "    : x: Placeholder tensor that holds image data.\n",
    "    : keep_prob: Placeholder tensor that hold dropout keep probability.\n",
    "    : return: Tensor that represents logits\n",
    "    \"\"\"\n",
    "    # TODO: Apply 1, 2, or 3 Convolution and Max Pool layers\n",
    "    #    Play around with different number of outputs, kernel size and stride\n",
    "    # Function Definition from Above:\n",
    "    #    conv2d_maxpool(x_tensor, conv_num_outputs, conv_ksize, conv_strides, pool_ksize, pool_strides)\n",
    "    conv_ksize = (5, 5)\n",
    "    conv_strides = (1, 1)\n",
    "    pool_ksize = (5, 5)\n",
    "    pool_strides = (2, 2)\n",
    "    \n",
    "    # Layer 1 \n",
    "    conv_num_outputs = 32\n",
    "    conv1 = conv2d_maxpool(x, conv_num_outputs, conv_ksize, conv_strides, pool_ksize, pool_strides)\n",
    "    \n",
    "    # Layer 2\n",
    "    conv_num_outputs = 128\n",
    "    conv2 = conv2d_maxpool(x, conv_num_outputs, conv_ksize, conv_strides, pool_ksize, pool_strides)\n",
    "    \n",
    "    # TODO: Apply a Flatten Layer\n",
    "    # Function Definition from Above:\n",
    "    #   flatten(x_tensor)\n",
    "    flatten1 = flatten(conv2)\n",
    "\n",
    "    # TODO: Apply 1, 2, or 3 Fully Connected Layers\n",
    "    #    Play around with different number of outputs\n",
    "    # Function Definition from Above:\n",
    "    #   fully_conn(x_tensor, num_outputs)\n",
    "    fully1 = fully_conn(flatten1, 1024)\n",
    "    fully1 = tf.nn.dropout(fully1, keep_prob)\n",
    "    \n",
    "    # TODO: Apply an Output Layer\n",
    "    #    Set this to the number of classes\n",
    "    # Function Definition from Above:\n",
    "    #   output(x_tensor, num_outputs)\n",
    "    output_layer = output(fully1, 10)\n",
    "    \n",
    "    \n",
    "    # TODO: return output\n",
    "    return output_layer\n",
    "\n",
    "\n",
    "\"\"\"\n",
    "DON'T MODIFY ANYTHING IN THIS CELL THAT IS BELOW THIS LINE\n",
    "\"\"\"\n",
    "\n",
    "##############################\n",
    "## Build the Neural Network ##\n",
    "##############################\n",
    "\n",
    "# Remove previous weights, bias, inputs, etc..\n",
    "tf.reset_default_graph()\n",
    "\n",
    "# Inputs\n",
    "x = neural_net_image_input((32, 32, 3))\n",
    "y = neural_net_label_input(10)\n",
    "keep_prob = neural_net_keep_prob_input()\n",
    "\n",
    "# Model\n",
    "logits = conv_net(x, keep_prob)\n",
    "\n",
    "# Name logits Tensor, so that is can be loaded from disk after training\n",
    "logits = tf.identity(logits, name='logits')\n",
    "\n",
    "# Loss and Optimizer\n",
    "cost = tf.reduce_mean(tf.nn.softmax_cross_entropy_with_logits(logits=logits, labels=y))\n",
    "optimizer = tf.train.AdamOptimizer().minimize(cost)\n",
    "\n",
    "# Accuracy\n",
    "correct_pred = tf.equal(tf.argmax(logits, 1), tf.argmax(y, 1))\n",
    "accuracy = tf.reduce_mean(tf.cast(correct_pred, tf.float32), name='accuracy')\n",
    "\n",
    "tests.test_conv_net(conv_net)"
   ]
  },
  {
   "cell_type": "markdown",
   "metadata": {
    "deletable": true,
    "editable": true
   },
   "source": [
    "## Train the Neural Network\n",
    "### Single Optimization\n",
    "Implement the function `train_neural_network` to do a single optimization.  The optimization should use `optimizer` to optimize in `session` with a `feed_dict` of the following:\n",
    "* `x` for image input\n",
    "* `y` for labels\n",
    "* `keep_prob` for keep probability for dropout\n",
    "\n",
    "This function will be called for each batch, so `tf.global_variables_initializer()` has already been called.\n",
    "\n",
    "Note: Nothing needs to be returned. This function is only optimizing the neural network."
   ]
  },
  {
   "cell_type": "code",
   "execution_count": 13,
   "metadata": {
    "collapsed": false,
    "deletable": true,
    "editable": true
   },
   "outputs": [
    {
     "name": "stdout",
     "output_type": "stream",
     "text": [
      "Tests Passed\n"
     ]
    }
   ],
   "source": [
    "def train_neural_network(session, optimizer, keep_probability, feature_batch, label_batch):\n",
    "    \"\"\"\n",
    "    Optimize the session on a batch of images and labels\n",
    "    : session: Current TensorFlow session\n",
    "    : optimizer: TensorFlow optimizer function\n",
    "    : keep_probability: keep probability\n",
    "    : feature_batch: Batch of Numpy image data\n",
    "    : label_batch: Batch of Numpy label data\n",
    "    \"\"\"\n",
    "    # TODO: Implement Function\n",
    "    return session.run(optimizer, feed_dict={x: feature_batch, y: label_batch, keep_prob: keep_probability})\n",
    "\n",
    "\n",
    "\"\"\"\n",
    "DON'T MODIFY ANYTHING IN THIS CELL THAT IS BELOW THIS LINE\n",
    "\"\"\"\n",
    "tests.test_train_nn(train_neural_network)"
   ]
  },
  {
   "cell_type": "markdown",
   "metadata": {
    "deletable": true,
    "editable": true
   },
   "source": [
    "### Show Stats\n",
    "Implement the function `print_stats` to print loss and validation accuracy.  Use the global variables `valid_features` and `valid_labels` to calculate validation accuracy.  Use a keep probability of `1.0` to calculate the loss and validation accuracy."
   ]
  },
  {
   "cell_type": "code",
   "execution_count": 14,
   "metadata": {
    "collapsed": false,
    "deletable": true,
    "editable": true
   },
   "outputs": [],
   "source": [
    "valid_test_size = 510\n",
    "\n",
    "def print_stats(session, feature_batch, label_batch, cost, accuracy):\n",
    "    \"\"\"\n",
    "    Print information about loss and validation accuracy\n",
    "    : session: Current TensorFlow session\n",
    "    : feature_batch: Batch of Numpy image data\n",
    "    : label_batch: Batch of Numpy label data\n",
    "    : cost: TensorFlow cost function\n",
    "    : accuracy: TensorFlow accuracy function\n",
    "    \"\"\"\n",
    "    # TODO: Implement Function\n",
    "    loss = session.run(cost, feed_dict={x: feature_batch, y:label_batch, keep_prob:1.})\n",
    "    valid_accuracy = session.run(accuracy, feed_dict={x: valid_features[:valid_test_size], y:valid_labels[:valid_test_size], keep_prob:1.})\n",
    "    \n",
    "    print ('LOSS: {:>10.4f} VALID ACCURACY {:.6F}'.format(loss, valid_accuracy))\n",
    "    "
   ]
  },
  {
   "cell_type": "markdown",
   "metadata": {
    "deletable": true,
    "editable": true
   },
   "source": [
    "### Hyperparameters\n",
    "Tune the following parameters:\n",
    "* Set `epochs` to the number of iterations until the network stops learning or start overfitting\n",
    "* Set `batch_size` to the highest number that your machine has memory for.  Most people set them to common sizes of memory:\n",
    " * 64\n",
    " * 128\n",
    " * 256\n",
    " * ...\n",
    "* Set `keep_probability` to the probability of keeping a node using dropout"
   ]
  },
  {
   "cell_type": "code",
   "execution_count": 15,
   "metadata": {
    "collapsed": true,
    "deletable": true,
    "editable": true
   },
   "outputs": [],
   "source": [
    "# TODO: Tune Parameters\n",
    "epochs = 50\n",
    "batch_size = 256\n",
    "keep_probability = 0.5"
   ]
  },
  {
   "cell_type": "markdown",
   "metadata": {
    "deletable": true,
    "editable": true
   },
   "source": [
    "### Train on a Single CIFAR-10 Batch\n",
    "Instead of training the neural network on all the CIFAR-10 batches of data, let's use a single batch. This should save time while you iterate on the model to get a better accuracy.  Once the final validation accuracy is 50% or greater, run the model on all the data in the next section."
   ]
  },
  {
   "cell_type": "code",
   "execution_count": 16,
   "metadata": {
    "collapsed": false,
    "deletable": true,
    "editable": true
   },
   "outputs": [
    {
     "name": "stdout",
     "output_type": "stream",
     "text": [
      "Checking the Training on a Single Batch...\n",
      "Epoch  1, CIFAR-10 Batch 1:  LOSS:     2.2354 VALID ACCURACY 0.201961\n",
      "Epoch  2, CIFAR-10 Batch 1:  LOSS:     2.1362 VALID ACCURACY 0.252941\n",
      "Epoch  3, CIFAR-10 Batch 1:  LOSS:     2.0656 VALID ACCURACY 0.282353\n",
      "Epoch  4, CIFAR-10 Batch 1:  LOSS:     2.0210 VALID ACCURACY 0.290196\n",
      "Epoch  5, CIFAR-10 Batch 1:  LOSS:     1.9729 VALID ACCURACY 0.307843\n",
      "Epoch  6, CIFAR-10 Batch 1:  LOSS:     1.7822 VALID ACCURACY 0.390196\n",
      "Epoch  7, CIFAR-10 Batch 1:  LOSS:     1.7074 VALID ACCURACY 0.386275\n",
      "Epoch  8, CIFAR-10 Batch 1:  LOSS:     1.5845 VALID ACCURACY 0.425490\n",
      "Epoch  9, CIFAR-10 Batch 1:  LOSS:     1.4742 VALID ACCURACY 0.441177\n",
      "Epoch 10, CIFAR-10 Batch 1:  LOSS:     1.4074 VALID ACCURACY 0.456863\n",
      "Epoch 11, CIFAR-10 Batch 1:  LOSS:     1.3245 VALID ACCURACY 0.458824\n",
      "Epoch 12, CIFAR-10 Batch 1:  LOSS:     1.2344 VALID ACCURACY 0.458824\n",
      "Epoch 13, CIFAR-10 Batch 1:  LOSS:     1.1532 VALID ACCURACY 0.458824\n",
      "Epoch 14, CIFAR-10 Batch 1:  LOSS:     1.0403 VALID ACCURACY 0.458824\n",
      "Epoch 15, CIFAR-10 Batch 1:  LOSS:     0.9025 VALID ACCURACY 0.484314\n",
      "Epoch 16, CIFAR-10 Batch 1:  LOSS:     0.8354 VALID ACCURACY 0.492157\n",
      "Epoch 17, CIFAR-10 Batch 1:  LOSS:     0.7504 VALID ACCURACY 0.492157\n",
      "Epoch 18, CIFAR-10 Batch 1:  LOSS:     0.6599 VALID ACCURACY 0.501961\n",
      "Epoch 19, CIFAR-10 Batch 1:  LOSS:     0.5575 VALID ACCURACY 0.531373\n",
      "Epoch 20, CIFAR-10 Batch 1:  LOSS:     0.4824 VALID ACCURACY 0.498039\n",
      "Epoch 21, CIFAR-10 Batch 1:  LOSS:     0.4215 VALID ACCURACY 0.513726\n",
      "Epoch 22, CIFAR-10 Batch 1:  LOSS:     0.3354 VALID ACCURACY 0.531373\n",
      "Epoch 23, CIFAR-10 Batch 1:  LOSS:     0.2846 VALID ACCURACY 0.543137\n",
      "Epoch 24, CIFAR-10 Batch 1:  LOSS:     0.2460 VALID ACCURACY 0.541177\n",
      "Epoch 25, CIFAR-10 Batch 1:  LOSS:     0.2204 VALID ACCURACY 0.547059\n",
      "Epoch 26, CIFAR-10 Batch 1:  LOSS:     0.1895 VALID ACCURACY 0.539216\n",
      "Epoch 27, CIFAR-10 Batch 1:  LOSS:     0.1973 VALID ACCURACY 0.543137\n",
      "Epoch 28, CIFAR-10 Batch 1:  LOSS:     0.1567 VALID ACCURACY 0.543137\n",
      "Epoch 29, CIFAR-10 Batch 1:  LOSS:     0.1396 VALID ACCURACY 0.560784\n",
      "Epoch 30, CIFAR-10 Batch 1:  LOSS:     0.1302 VALID ACCURACY 0.543137\n",
      "Epoch 31, CIFAR-10 Batch 1:  LOSS:     0.1062 VALID ACCURACY 0.549020\n",
      "Epoch 32, CIFAR-10 Batch 1:  LOSS:     0.1012 VALID ACCURACY 0.564706\n",
      "Epoch 33, CIFAR-10 Batch 1:  LOSS:     0.0837 VALID ACCURACY 0.570588\n",
      "Epoch 34, CIFAR-10 Batch 1:  LOSS:     0.0771 VALID ACCURACY 0.564706\n",
      "Epoch 35, CIFAR-10 Batch 1:  LOSS:     0.0757 VALID ACCURACY 0.564706\n",
      "Epoch 36, CIFAR-10 Batch 1:  LOSS:     0.0636 VALID ACCURACY 0.560784\n",
      "Epoch 37, CIFAR-10 Batch 1:  LOSS:     0.0607 VALID ACCURACY 0.568628\n",
      "Epoch 38, CIFAR-10 Batch 1:  LOSS:     0.0496 VALID ACCURACY 0.566667\n",
      "Epoch 39, CIFAR-10 Batch 1:  LOSS:     0.0461 VALID ACCURACY 0.562745\n",
      "Epoch 40, CIFAR-10 Batch 1:  LOSS:     0.0452 VALID ACCURACY 0.560784\n",
      "Epoch 41, CIFAR-10 Batch 1:  LOSS:     0.0351 VALID ACCURACY 0.550980\n",
      "Epoch 42, CIFAR-10 Batch 1:  LOSS:     0.0328 VALID ACCURACY 0.549020\n",
      "Epoch 43, CIFAR-10 Batch 1:  LOSS:     0.0268 VALID ACCURACY 0.558824\n",
      "Epoch 44, CIFAR-10 Batch 1:  LOSS:     0.0266 VALID ACCURACY 0.562745\n",
      "Epoch 45, CIFAR-10 Batch 1:  LOSS:     0.0247 VALID ACCURACY 0.552941\n",
      "Epoch 46, CIFAR-10 Batch 1:  LOSS:     0.0258 VALID ACCURACY 0.562745\n",
      "Epoch 47, CIFAR-10 Batch 1:  LOSS:     0.0341 VALID ACCURACY 0.574510\n",
      "Epoch 48, CIFAR-10 Batch 1:  LOSS:     0.0332 VALID ACCURACY 0.535294\n",
      "Epoch 49, CIFAR-10 Batch 1:  LOSS:     0.0196 VALID ACCURACY 0.549020\n",
      "Epoch 50, CIFAR-10 Batch 1:  LOSS:     0.0165 VALID ACCURACY 0.556863\n"
     ]
    }
   ],
   "source": [
    "\"\"\"\n",
    "DON'T MODIFY ANYTHING IN THIS CELL\n",
    "\"\"\"\n",
    "print('Checking the Training on a Single Batch...')\n",
    "with tf.Session() as sess:\n",
    "    # Initializing the variables\n",
    "    sess.run(tf.global_variables_initializer())\n",
    "    \n",
    "    # Training cycle\n",
    "    for epoch in range(epochs):\n",
    "        batch_i = 1\n",
    "        for batch_features, batch_labels in helper.load_preprocess_training_batch(batch_i, batch_size):\n",
    "            train_neural_network(sess, optimizer, keep_probability, batch_features, batch_labels)\n",
    "        print('Epoch {:>2}, CIFAR-10 Batch {}:  '.format(epoch + 1, batch_i), end='')\n",
    "        print_stats(sess, batch_features, batch_labels, cost, accuracy)"
   ]
  },
  {
   "cell_type": "markdown",
   "metadata": {
    "deletable": true,
    "editable": true
   },
   "source": [
    "### Fully Train the Model\n",
    "Now that you got a good accuracy with a single CIFAR-10 batch, try it with all five batches."
   ]
  },
  {
   "cell_type": "code",
   "execution_count": 17,
   "metadata": {
    "collapsed": false,
    "deletable": true,
    "editable": true
   },
   "outputs": [
    {
     "name": "stdout",
     "output_type": "stream",
     "text": [
      "Training...\n",
      "Epoch  1, CIFAR-10 Batch 1:  LOSS:     2.1496 VALID ACCURACY 0.213726\n",
      "Epoch  1, CIFAR-10 Batch 2:  LOSS:     1.8161 VALID ACCURACY 0.315686\n",
      "Epoch  1, CIFAR-10 Batch 3:  LOSS:     1.6353 VALID ACCURACY 0.372549\n",
      "Epoch  1, CIFAR-10 Batch 4:  LOSS:     1.5923 VALID ACCURACY 0.413726\n",
      "Epoch  1, CIFAR-10 Batch 5:  LOSS:     1.6067 VALID ACCURACY 0.474510\n",
      "Epoch  2, CIFAR-10 Batch 1:  LOSS:     1.7096 VALID ACCURACY 0.478431\n",
      "Epoch  2, CIFAR-10 Batch 2:  LOSS:     1.5108 VALID ACCURACY 0.482353\n",
      "Epoch  2, CIFAR-10 Batch 3:  LOSS:     1.2621 VALID ACCURACY 0.468628\n",
      "Epoch  2, CIFAR-10 Batch 4:  LOSS:     1.3613 VALID ACCURACY 0.521569\n",
      "Epoch  2, CIFAR-10 Batch 5:  LOSS:     1.4603 VALID ACCURACY 0.535294\n",
      "Epoch  3, CIFAR-10 Batch 1:  LOSS:     1.5413 VALID ACCURACY 0.519608\n",
      "Epoch  3, CIFAR-10 Batch 2:  LOSS:     1.3890 VALID ACCURACY 0.529412\n",
      "Epoch  3, CIFAR-10 Batch 3:  LOSS:     1.1315 VALID ACCURACY 0.511765\n",
      "Epoch  3, CIFAR-10 Batch 4:  LOSS:     1.2438 VALID ACCURACY 0.539216\n",
      "Epoch  3, CIFAR-10 Batch 5:  LOSS:     1.3383 VALID ACCURACY 0.547059\n",
      "Epoch  4, CIFAR-10 Batch 1:  LOSS:     1.4336 VALID ACCURACY 0.550981\n",
      "Epoch  4, CIFAR-10 Batch 2:  LOSS:     1.2891 VALID ACCURACY 0.562745\n",
      "Epoch  4, CIFAR-10 Batch 3:  LOSS:     1.0426 VALID ACCURACY 0.549020\n",
      "Epoch  4, CIFAR-10 Batch 4:  LOSS:     1.1406 VALID ACCURACY 0.572549\n",
      "Epoch  4, CIFAR-10 Batch 5:  LOSS:     1.2317 VALID ACCURACY 0.550980\n",
      "Epoch  5, CIFAR-10 Batch 1:  LOSS:     1.3145 VALID ACCURACY 0.570588\n",
      "Epoch  5, CIFAR-10 Batch 2:  LOSS:     1.1858 VALID ACCURACY 0.566667\n",
      "Epoch  5, CIFAR-10 Batch 3:  LOSS:     0.9504 VALID ACCURACY 0.545098\n",
      "Epoch  5, CIFAR-10 Batch 4:  LOSS:     1.0793 VALID ACCURACY 0.584314\n",
      "Epoch  5, CIFAR-10 Batch 5:  LOSS:     1.1071 VALID ACCURACY 0.560784\n",
      "Epoch  6, CIFAR-10 Batch 1:  LOSS:     1.1660 VALID ACCURACY 0.576471\n",
      "Epoch  6, CIFAR-10 Batch 2:  LOSS:     1.0861 VALID ACCURACY 0.578431\n",
      "Epoch  6, CIFAR-10 Batch 3:  LOSS:     0.8126 VALID ACCURACY 0.558824\n",
      "Epoch  6, CIFAR-10 Batch 4:  LOSS:     0.9513 VALID ACCURACY 0.574510\n",
      "Epoch  6, CIFAR-10 Batch 5:  LOSS:     1.0235 VALID ACCURACY 0.582353\n",
      "Epoch  7, CIFAR-10 Batch 1:  LOSS:     1.0849 VALID ACCURACY 0.580392\n",
      "Epoch  7, CIFAR-10 Batch 2:  LOSS:     0.9665 VALID ACCURACY 0.580392\n",
      "Epoch  7, CIFAR-10 Batch 3:  LOSS:     0.7402 VALID ACCURACY 0.572549\n",
      "Epoch  7, CIFAR-10 Batch 4:  LOSS:     0.8737 VALID ACCURACY 0.601961\n",
      "Epoch  7, CIFAR-10 Batch 5:  LOSS:     0.9047 VALID ACCURACY 0.600000\n",
      "Epoch  8, CIFAR-10 Batch 1:  LOSS:     1.0158 VALID ACCURACY 0.594118\n",
      "Epoch  8, CIFAR-10 Batch 2:  LOSS:     0.8878 VALID ACCURACY 0.586275\n",
      "Epoch  8, CIFAR-10 Batch 3:  LOSS:     0.6463 VALID ACCURACY 0.598039\n",
      "Epoch  8, CIFAR-10 Batch 4:  LOSS:     0.7786 VALID ACCURACY 0.609804\n",
      "Epoch  8, CIFAR-10 Batch 5:  LOSS:     0.7716 VALID ACCURACY 0.611765\n",
      "Epoch  9, CIFAR-10 Batch 1:  LOSS:     0.8471 VALID ACCURACY 0.603922\n",
      "Epoch  9, CIFAR-10 Batch 2:  LOSS:     0.7926 VALID ACCURACY 0.588235\n",
      "Epoch  9, CIFAR-10 Batch 3:  LOSS:     0.5640 VALID ACCURACY 0.609804\n",
      "Epoch  9, CIFAR-10 Batch 4:  LOSS:     0.7007 VALID ACCURACY 0.605882\n",
      "Epoch  9, CIFAR-10 Batch 5:  LOSS:     0.6913 VALID ACCURACY 0.609804\n",
      "Epoch 10, CIFAR-10 Batch 1:  LOSS:     0.7527 VALID ACCURACY 0.592157\n",
      "Epoch 10, CIFAR-10 Batch 2:  LOSS:     0.7039 VALID ACCURACY 0.601961\n",
      "Epoch 10, CIFAR-10 Batch 3:  LOSS:     0.5042 VALID ACCURACY 0.601961\n",
      "Epoch 10, CIFAR-10 Batch 4:  LOSS:     0.6317 VALID ACCURACY 0.609804\n",
      "Epoch 10, CIFAR-10 Batch 5:  LOSS:     0.6102 VALID ACCURACY 0.631373\n",
      "Epoch 11, CIFAR-10 Batch 1:  LOSS:     0.6225 VALID ACCURACY 0.629412\n",
      "Epoch 11, CIFAR-10 Batch 2:  LOSS:     0.6286 VALID ACCURACY 0.611765\n",
      "Epoch 11, CIFAR-10 Batch 3:  LOSS:     0.4532 VALID ACCURACY 0.615686\n",
      "Epoch 11, CIFAR-10 Batch 4:  LOSS:     0.5374 VALID ACCURACY 0.617647\n",
      "Epoch 11, CIFAR-10 Batch 5:  LOSS:     0.5671 VALID ACCURACY 0.627451\n",
      "Epoch 12, CIFAR-10 Batch 1:  LOSS:     0.5379 VALID ACCURACY 0.623529\n",
      "Epoch 12, CIFAR-10 Batch 2:  LOSS:     0.5722 VALID ACCURACY 0.600000\n",
      "Epoch 12, CIFAR-10 Batch 3:  LOSS:     0.3717 VALID ACCURACY 0.615686\n",
      "Epoch 12, CIFAR-10 Batch 4:  LOSS:     0.4951 VALID ACCURACY 0.623529\n",
      "Epoch 12, CIFAR-10 Batch 5:  LOSS:     0.4896 VALID ACCURACY 0.605882\n",
      "Epoch 13, CIFAR-10 Batch 1:  LOSS:     0.4858 VALID ACCURACY 0.645098\n",
      "Epoch 13, CIFAR-10 Batch 2:  LOSS:     0.5402 VALID ACCURACY 0.629412\n",
      "Epoch 13, CIFAR-10 Batch 3:  LOSS:     0.3623 VALID ACCURACY 0.623530\n",
      "Epoch 13, CIFAR-10 Batch 4:  LOSS:     0.4458 VALID ACCURACY 0.613726\n",
      "Epoch 13, CIFAR-10 Batch 5:  LOSS:     0.4567 VALID ACCURACY 0.621569\n",
      "Epoch 14, CIFAR-10 Batch 1:  LOSS:     0.4394 VALID ACCURACY 0.627451\n",
      "Epoch 14, CIFAR-10 Batch 2:  LOSS:     0.4961 VALID ACCURACY 0.617647\n",
      "Epoch 14, CIFAR-10 Batch 3:  LOSS:     0.3154 VALID ACCURACY 0.603922\n",
      "Epoch 14, CIFAR-10 Batch 4:  LOSS:     0.3785 VALID ACCURACY 0.627451\n",
      "Epoch 14, CIFAR-10 Batch 5:  LOSS:     0.4101 VALID ACCURACY 0.641177\n",
      "Epoch 15, CIFAR-10 Batch 1:  LOSS:     0.4174 VALID ACCURACY 0.649020\n",
      "Epoch 15, CIFAR-10 Batch 2:  LOSS:     0.4607 VALID ACCURACY 0.621569\n",
      "Epoch 15, CIFAR-10 Batch 3:  LOSS:     0.3118 VALID ACCURACY 0.635294\n",
      "Epoch 15, CIFAR-10 Batch 4:  LOSS:     0.3671 VALID ACCURACY 0.654902\n",
      "Epoch 15, CIFAR-10 Batch 5:  LOSS:     0.3487 VALID ACCURACY 0.635294\n",
      "Epoch 16, CIFAR-10 Batch 1:  LOSS:     0.3566 VALID ACCURACY 0.649020\n",
      "Epoch 16, CIFAR-10 Batch 2:  LOSS:     0.3918 VALID ACCURACY 0.645098\n",
      "Epoch 16, CIFAR-10 Batch 3:  LOSS:     0.2662 VALID ACCURACY 0.639216\n",
      "Epoch 16, CIFAR-10 Batch 4:  LOSS:     0.3418 VALID ACCURACY 0.660784\n",
      "Epoch 16, CIFAR-10 Batch 5:  LOSS:     0.3169 VALID ACCURACY 0.650980\n",
      "Epoch 17, CIFAR-10 Batch 1:  LOSS:     0.3112 VALID ACCURACY 0.654902\n",
      "Epoch 17, CIFAR-10 Batch 2:  LOSS:     0.3246 VALID ACCURACY 0.625490\n",
      "Epoch 17, CIFAR-10 Batch 3:  LOSS:     0.2599 VALID ACCURACY 0.645098\n",
      "Epoch 17, CIFAR-10 Batch 4:  LOSS:     0.3003 VALID ACCURACY 0.662745\n",
      "Epoch 17, CIFAR-10 Batch 5:  LOSS:     0.2989 VALID ACCURACY 0.650980\n",
      "Epoch 18, CIFAR-10 Batch 1:  LOSS:     0.2651 VALID ACCURACY 0.662745\n",
      "Epoch 18, CIFAR-10 Batch 2:  LOSS:     0.2758 VALID ACCURACY 0.631373\n",
      "Epoch 18, CIFAR-10 Batch 3:  LOSS:     0.2062 VALID ACCURACY 0.654902\n",
      "Epoch 18, CIFAR-10 Batch 4:  LOSS:     0.2531 VALID ACCURACY 0.668628\n",
      "Epoch 18, CIFAR-10 Batch 5:  LOSS:     0.2662 VALID ACCURACY 0.656863\n",
      "Epoch 19, CIFAR-10 Batch 1:  LOSS:     0.2686 VALID ACCURACY 0.656863\n",
      "Epoch 19, CIFAR-10 Batch 2:  LOSS:     0.2475 VALID ACCURACY 0.633333\n",
      "Epoch 19, CIFAR-10 Batch 3:  LOSS:     0.2006 VALID ACCURACY 0.652941\n",
      "Epoch 19, CIFAR-10 Batch 4:  LOSS:     0.2301 VALID ACCURACY 0.662745\n",
      "Epoch 19, CIFAR-10 Batch 5:  LOSS:     0.2180 VALID ACCURACY 0.670588\n",
      "Epoch 20, CIFAR-10 Batch 1:  LOSS:     0.2259 VALID ACCURACY 0.672549\n",
      "Epoch 20, CIFAR-10 Batch 2:  LOSS:     0.2124 VALID ACCURACY 0.654902\n",
      "Epoch 20, CIFAR-10 Batch 3:  LOSS:     0.1913 VALID ACCURACY 0.658824\n",
      "Epoch 20, CIFAR-10 Batch 4:  LOSS:     0.2036 VALID ACCURACY 0.670588\n",
      "Epoch 20, CIFAR-10 Batch 5:  LOSS:     0.2020 VALID ACCURACY 0.670588\n",
      "Epoch 21, CIFAR-10 Batch 1:  LOSS:     0.1892 VALID ACCURACY 0.662745\n",
      "Epoch 21, CIFAR-10 Batch 2:  LOSS:     0.1892 VALID ACCURACY 0.658824\n",
      "Epoch 21, CIFAR-10 Batch 3:  LOSS:     0.1693 VALID ACCURACY 0.654902\n",
      "Epoch 21, CIFAR-10 Batch 4:  LOSS:     0.1904 VALID ACCURACY 0.676471\n",
      "Epoch 21, CIFAR-10 Batch 5:  LOSS:     0.2004 VALID ACCURACY 0.674510\n",
      "Epoch 22, CIFAR-10 Batch 1:  LOSS:     0.1778 VALID ACCURACY 0.670588\n",
      "Epoch 22, CIFAR-10 Batch 2:  LOSS:     0.1670 VALID ACCURACY 0.676471\n",
      "Epoch 22, CIFAR-10 Batch 3:  LOSS:     0.1543 VALID ACCURACY 0.652941\n",
      "Epoch 22, CIFAR-10 Batch 4:  LOSS:     0.1537 VALID ACCURACY 0.690196\n",
      "Epoch 22, CIFAR-10 Batch 5:  LOSS:     0.1552 VALID ACCURACY 0.682353\n",
      "Epoch 23, CIFAR-10 Batch 1:  LOSS:     0.1540 VALID ACCURACY 0.662745\n",
      "Epoch 23, CIFAR-10 Batch 2:  LOSS:     0.1383 VALID ACCURACY 0.684314\n",
      "Epoch 23, CIFAR-10 Batch 3:  LOSS:     0.1228 VALID ACCURACY 0.668628\n",
      "Epoch 23, CIFAR-10 Batch 4:  LOSS:     0.1417 VALID ACCURACY 0.680392\n",
      "Epoch 23, CIFAR-10 Batch 5:  LOSS:     0.1470 VALID ACCURACY 0.692157\n",
      "Epoch 24, CIFAR-10 Batch 1:  LOSS:     0.1371 VALID ACCURACY 0.672549\n",
      "Epoch 24, CIFAR-10 Batch 2:  LOSS:     0.1298 VALID ACCURACY 0.674510\n",
      "Epoch 24, CIFAR-10 Batch 3:  LOSS:     0.1387 VALID ACCURACY 0.666667\n",
      "Epoch 24, CIFAR-10 Batch 4:  LOSS:     0.1295 VALID ACCURACY 0.668628\n",
      "Epoch 24, CIFAR-10 Batch 5:  LOSS:     0.1176 VALID ACCURACY 0.680392\n",
      "Epoch 25, CIFAR-10 Batch 1:  LOSS:     0.1289 VALID ACCURACY 0.676471\n",
      "Epoch 25, CIFAR-10 Batch 2:  LOSS:     0.1088 VALID ACCURACY 0.668628\n",
      "Epoch 25, CIFAR-10 Batch 3:  LOSS:     0.0998 VALID ACCURACY 0.674510\n",
      "Epoch 25, CIFAR-10 Batch 4:  LOSS:     0.1163 VALID ACCURACY 0.692157\n",
      "Epoch 25, CIFAR-10 Batch 5:  LOSS:     0.0989 VALID ACCURACY 0.680392\n",
      "Epoch 26, CIFAR-10 Batch 1:  LOSS:     0.1052 VALID ACCURACY 0.672549\n",
      "Epoch 26, CIFAR-10 Batch 2:  LOSS:     0.1120 VALID ACCURACY 0.688235\n",
      "Epoch 26, CIFAR-10 Batch 3:  LOSS:     0.0902 VALID ACCURACY 0.686275\n",
      "Epoch 26, CIFAR-10 Batch 4:  LOSS:     0.1094 VALID ACCURACY 0.684314\n",
      "Epoch 26, CIFAR-10 Batch 5:  LOSS:     0.0994 VALID ACCURACY 0.680392\n",
      "Epoch 27, CIFAR-10 Batch 1:  LOSS:     0.1078 VALID ACCURACY 0.688235\n",
      "Epoch 27, CIFAR-10 Batch 2:  LOSS:     0.0826 VALID ACCURACY 0.686275\n",
      "Epoch 27, CIFAR-10 Batch 3:  LOSS:     0.0872 VALID ACCURACY 0.678431\n",
      "Epoch 27, CIFAR-10 Batch 4:  LOSS:     0.0969 VALID ACCURACY 0.676471\n",
      "Epoch 27, CIFAR-10 Batch 5:  LOSS:     0.1090 VALID ACCURACY 0.682353\n",
      "Epoch 28, CIFAR-10 Batch 1:  LOSS:     0.1070 VALID ACCURACY 0.678431\n",
      "Epoch 28, CIFAR-10 Batch 2:  LOSS:     0.0798 VALID ACCURACY 0.686275\n",
      "Epoch 28, CIFAR-10 Batch 3:  LOSS:     0.0766 VALID ACCURACY 0.660784\n",
      "Epoch 28, CIFAR-10 Batch 4:  LOSS:     0.0916 VALID ACCURACY 0.666667\n",
      "Epoch 28, CIFAR-10 Batch 5:  LOSS:     0.0852 VALID ACCURACY 0.676471\n",
      "Epoch 29, CIFAR-10 Batch 1:  LOSS:     0.0807 VALID ACCURACY 0.670588\n",
      "Epoch 29, CIFAR-10 Batch 2:  LOSS:     0.0751 VALID ACCURACY 0.684314\n",
      "Epoch 29, CIFAR-10 Batch 3:  LOSS:     0.0618 VALID ACCURACY 0.678431\n",
      "Epoch 29, CIFAR-10 Batch 4:  LOSS:     0.0851 VALID ACCURACY 0.645098\n",
      "Epoch 29, CIFAR-10 Batch 5:  LOSS:     0.0662 VALID ACCURACY 0.678431\n",
      "Epoch 30, CIFAR-10 Batch 1:  LOSS:     0.0798 VALID ACCURACY 0.694118\n",
      "Epoch 30, CIFAR-10 Batch 2:  LOSS:     0.0662 VALID ACCURACY 0.682353\n",
      "Epoch 30, CIFAR-10 Batch 3:  LOSS:     0.0614 VALID ACCURACY 0.652941\n",
      "Epoch 30, CIFAR-10 Batch 4:  LOSS:     0.0735 VALID ACCURACY 0.658824\n",
      "Epoch 30, CIFAR-10 Batch 5:  LOSS:     0.0569 VALID ACCURACY 0.684314\n",
      "Epoch 31, CIFAR-10 Batch 1:  LOSS:     0.0603 VALID ACCURACY 0.678431\n",
      "Epoch 31, CIFAR-10 Batch 2:  LOSS:     0.0595 VALID ACCURACY 0.666667\n",
      "Epoch 31, CIFAR-10 Batch 3:  LOSS:     0.0649 VALID ACCURACY 0.656863\n",
      "Epoch 31, CIFAR-10 Batch 4:  LOSS:     0.0593 VALID ACCURACY 0.672549\n",
      "Epoch 31, CIFAR-10 Batch 5:  LOSS:     0.0587 VALID ACCURACY 0.688235\n",
      "Epoch 32, CIFAR-10 Batch 1:  LOSS:     0.0589 VALID ACCURACY 0.690196\n",
      "Epoch 32, CIFAR-10 Batch 2:  LOSS:     0.0636 VALID ACCURACY 0.686275\n",
      "Epoch 32, CIFAR-10 Batch 3:  LOSS:     0.0524 VALID ACCURACY 0.670588\n",
      "Epoch 32, CIFAR-10 Batch 4:  LOSS:     0.0603 VALID ACCURACY 0.674510\n",
      "Epoch 32, CIFAR-10 Batch 5:  LOSS:     0.0423 VALID ACCURACY 0.684314\n",
      "Epoch 33, CIFAR-10 Batch 1:  LOSS:     0.0564 VALID ACCURACY 0.680392\n",
      "Epoch 33, CIFAR-10 Batch 2:  LOSS:     0.0591 VALID ACCURACY 0.680392\n",
      "Epoch 33, CIFAR-10 Batch 3:  LOSS:     0.0514 VALID ACCURACY 0.660784\n",
      "Epoch 33, CIFAR-10 Batch 4:  LOSS:     0.0560 VALID ACCURACY 0.698039\n",
      "Epoch 33, CIFAR-10 Batch 5:  LOSS:     0.0487 VALID ACCURACY 0.680392\n",
      "Epoch 34, CIFAR-10 Batch 1:  LOSS:     0.0514 VALID ACCURACY 0.690196\n",
      "Epoch 34, CIFAR-10 Batch 2:  LOSS:     0.0499 VALID ACCURACY 0.670588\n",
      "Epoch 34, CIFAR-10 Batch 3:  LOSS:     0.0438 VALID ACCURACY 0.668628\n",
      "Epoch 34, CIFAR-10 Batch 4:  LOSS:     0.0511 VALID ACCURACY 0.688235\n",
      "Epoch 34, CIFAR-10 Batch 5:  LOSS:     0.0362 VALID ACCURACY 0.688235\n",
      "Epoch 35, CIFAR-10 Batch 1:  LOSS:     0.0488 VALID ACCURACY 0.680392\n",
      "Epoch 35, CIFAR-10 Batch 2:  LOSS:     0.0414 VALID ACCURACY 0.670588\n",
      "Epoch 35, CIFAR-10 Batch 3:  LOSS:     0.0379 VALID ACCURACY 0.660784\n",
      "Epoch 35, CIFAR-10 Batch 4:  LOSS:     0.0473 VALID ACCURACY 0.668628\n",
      "Epoch 35, CIFAR-10 Batch 5:  LOSS:     0.0305 VALID ACCURACY 0.694118\n",
      "Epoch 36, CIFAR-10 Batch 1:  LOSS:     0.0452 VALID ACCURACY 0.692157\n",
      "Epoch 36, CIFAR-10 Batch 2:  LOSS:     0.0547 VALID ACCURACY 0.664706\n",
      "Epoch 36, CIFAR-10 Batch 3:  LOSS:     0.0323 VALID ACCURACY 0.682353\n",
      "Epoch 36, CIFAR-10 Batch 4:  LOSS:     0.0503 VALID ACCURACY 0.676471\n",
      "Epoch 36, CIFAR-10 Batch 5:  LOSS:     0.0301 VALID ACCURACY 0.686275\n",
      "Epoch 37, CIFAR-10 Batch 1:  LOSS:     0.0597 VALID ACCURACY 0.676471\n",
      "Epoch 37, CIFAR-10 Batch 2:  LOSS:     0.0400 VALID ACCURACY 0.682353\n",
      "Epoch 37, CIFAR-10 Batch 3:  LOSS:     0.0365 VALID ACCURACY 0.694118\n",
      "Epoch 37, CIFAR-10 Batch 4:  LOSS:     0.0345 VALID ACCURACY 0.678431\n",
      "Epoch 37, CIFAR-10 Batch 5:  LOSS:     0.0241 VALID ACCURACY 0.684314\n",
      "Epoch 38, CIFAR-10 Batch 1:  LOSS:     0.0395 VALID ACCURACY 0.688235\n",
      "Epoch 38, CIFAR-10 Batch 2:  LOSS:     0.0275 VALID ACCURACY 0.688235\n",
      "Epoch 38, CIFAR-10 Batch 3:  LOSS:     0.0307 VALID ACCURACY 0.676471\n",
      "Epoch 38, CIFAR-10 Batch 4:  LOSS:     0.0422 VALID ACCURACY 0.688235\n",
      "Epoch 38, CIFAR-10 Batch 5:  LOSS:     0.0264 VALID ACCURACY 0.676471\n",
      "Epoch 39, CIFAR-10 Batch 1:  LOSS:     0.0333 VALID ACCURACY 0.672549\n",
      "Epoch 39, CIFAR-10 Batch 2:  LOSS:     0.0298 VALID ACCURACY 0.666667\n",
      "Epoch 39, CIFAR-10 Batch 3:  LOSS:     0.0296 VALID ACCURACY 0.700000\n",
      "Epoch 39, CIFAR-10 Batch 4:  LOSS:     0.0262 VALID ACCURACY 0.694118\n",
      "Epoch 39, CIFAR-10 Batch 5:  LOSS:     0.0250 VALID ACCURACY 0.698039\n",
      "Epoch 40, CIFAR-10 Batch 1:  LOSS:     0.0437 VALID ACCURACY 0.676471\n",
      "Epoch 40, CIFAR-10 Batch 2:  LOSS:     0.0275 VALID ACCURACY 0.654902\n",
      "Epoch 40, CIFAR-10 Batch 3:  LOSS:     0.0321 VALID ACCURACY 0.674510\n",
      "Epoch 40, CIFAR-10 Batch 4:  LOSS:     0.0330 VALID ACCURACY 0.678432\n",
      "Epoch 40, CIFAR-10 Batch 5:  LOSS:     0.0185 VALID ACCURACY 0.680392\n",
      "Epoch 41, CIFAR-10 Batch 1:  LOSS:     0.0305 VALID ACCURACY 0.686275\n",
      "Epoch 41, CIFAR-10 Batch 2:  LOSS:     0.0216 VALID ACCURACY 0.658824\n",
      "Epoch 41, CIFAR-10 Batch 3:  LOSS:     0.0265 VALID ACCURACY 0.672549\n",
      "Epoch 41, CIFAR-10 Batch 4:  LOSS:     0.0295 VALID ACCURACY 0.668628\n",
      "Epoch 41, CIFAR-10 Batch 5:  LOSS:     0.0185 VALID ACCURACY 0.682353\n",
      "Epoch 42, CIFAR-10 Batch 1:  LOSS:     0.0351 VALID ACCURACY 0.668628\n",
      "Epoch 42, CIFAR-10 Batch 2:  LOSS:     0.0239 VALID ACCURACY 0.629412\n",
      "Epoch 42, CIFAR-10 Batch 3:  LOSS:     0.0316 VALID ACCURACY 0.652941\n",
      "Epoch 42, CIFAR-10 Batch 4:  LOSS:     0.0281 VALID ACCURACY 0.664706\n",
      "Epoch 42, CIFAR-10 Batch 5:  LOSS:     0.0273 VALID ACCURACY 0.664706\n",
      "Epoch 43, CIFAR-10 Batch 1:  LOSS:     0.0296 VALID ACCURACY 0.652941\n",
      "Epoch 43, CIFAR-10 Batch 2:  LOSS:     0.0235 VALID ACCURACY 0.633333\n",
      "Epoch 43, CIFAR-10 Batch 3:  LOSS:     0.0272 VALID ACCURACY 0.670588\n",
      "Epoch 43, CIFAR-10 Batch 4:  LOSS:     0.0262 VALID ACCURACY 0.694118\n",
      "Epoch 43, CIFAR-10 Batch 5:  LOSS:     0.0176 VALID ACCURACY 0.670588\n",
      "Epoch 44, CIFAR-10 Batch 1:  LOSS:     0.0272 VALID ACCURACY 0.668628\n",
      "Epoch 44, CIFAR-10 Batch 2:  LOSS:     0.0259 VALID ACCURACY 0.660784\n",
      "Epoch 44, CIFAR-10 Batch 3:  LOSS:     0.0269 VALID ACCURACY 0.668628\n",
      "Epoch 44, CIFAR-10 Batch 4:  LOSS:     0.0269 VALID ACCURACY 0.670588\n",
      "Epoch 44, CIFAR-10 Batch 5:  LOSS:     0.0153 VALID ACCURACY 0.680392\n",
      "Epoch 45, CIFAR-10 Batch 1:  LOSS:     0.0230 VALID ACCURACY 0.680392\n",
      "Epoch 45, CIFAR-10 Batch 2:  LOSS:     0.0213 VALID ACCURACY 0.662745\n",
      "Epoch 45, CIFAR-10 Batch 3:  LOSS:     0.0216 VALID ACCURACY 0.678431\n",
      "Epoch 45, CIFAR-10 Batch 4:  LOSS:     0.0240 VALID ACCURACY 0.684314\n",
      "Epoch 45, CIFAR-10 Batch 5:  LOSS:     0.0157 VALID ACCURACY 0.666667\n",
      "Epoch 46, CIFAR-10 Batch 1:  LOSS:     0.0224 VALID ACCURACY 0.674510\n",
      "Epoch 46, CIFAR-10 Batch 2:  LOSS:     0.0173 VALID ACCURACY 0.656863\n",
      "Epoch 46, CIFAR-10 Batch 3:  LOSS:     0.0183 VALID ACCURACY 0.678431\n",
      "Epoch 46, CIFAR-10 Batch 4:  LOSS:     0.0224 VALID ACCURACY 0.658824\n",
      "Epoch 46, CIFAR-10 Batch 5:  LOSS:     0.0120 VALID ACCURACY 0.676471\n",
      "Epoch 47, CIFAR-10 Batch 1:  LOSS:     0.0181 VALID ACCURACY 0.688235\n",
      "Epoch 47, CIFAR-10 Batch 2:  LOSS:     0.0146 VALID ACCURACY 0.666667\n",
      "Epoch 47, CIFAR-10 Batch 3:  LOSS:     0.0172 VALID ACCURACY 0.672549\n",
      "Epoch 47, CIFAR-10 Batch 4:  LOSS:     0.0243 VALID ACCURACY 0.664706\n",
      "Epoch 47, CIFAR-10 Batch 5:  LOSS:     0.0114 VALID ACCURACY 0.672549\n",
      "Epoch 48, CIFAR-10 Batch 1:  LOSS:     0.0203 VALID ACCURACY 0.660784\n",
      "Epoch 48, CIFAR-10 Batch 2:  LOSS:     0.0154 VALID ACCURACY 0.658824\n",
      "Epoch 48, CIFAR-10 Batch 3:  LOSS:     0.0145 VALID ACCURACY 0.666667\n",
      "Epoch 48, CIFAR-10 Batch 4:  LOSS:     0.0297 VALID ACCURACY 0.666667\n",
      "Epoch 48, CIFAR-10 Batch 5:  LOSS:     0.0089 VALID ACCURACY 0.684314\n",
      "Epoch 49, CIFAR-10 Batch 1:  LOSS:     0.0220 VALID ACCURACY 0.670588\n",
      "Epoch 49, CIFAR-10 Batch 2:  LOSS:     0.0144 VALID ACCURACY 0.654902\n",
      "Epoch 49, CIFAR-10 Batch 3:  LOSS:     0.0162 VALID ACCURACY 0.672549\n",
      "Epoch 49, CIFAR-10 Batch 4:  LOSS:     0.0201 VALID ACCURACY 0.656863\n",
      "Epoch 49, CIFAR-10 Batch 5:  LOSS:     0.0101 VALID ACCURACY 0.678431\n",
      "Epoch 50, CIFAR-10 Batch 1:  LOSS:     0.0229 VALID ACCURACY 0.658824\n",
      "Epoch 50, CIFAR-10 Batch 2:  LOSS:     0.0098 VALID ACCURACY 0.662745\n",
      "Epoch 50, CIFAR-10 Batch 3:  LOSS:     0.0180 VALID ACCURACY 0.670588\n",
      "Epoch 50, CIFAR-10 Batch 4:  LOSS:     0.0202 VALID ACCURACY 0.660784\n",
      "Epoch 50, CIFAR-10 Batch 5:  LOSS:     0.0120 VALID ACCURACY 0.672549\n"
     ]
    }
   ],
   "source": [
    "\"\"\"\n",
    "DON'T MODIFY ANYTHING IN THIS CELL\n",
    "\"\"\"\n",
    "save_model_path = './image_classification'\n",
    "\n",
    "print('Training...')\n",
    "with tf.Session() as sess:\n",
    "    # Initializing the variables\n",
    "    sess.run(tf.global_variables_initializer())\n",
    "    \n",
    "    # Training cycle\n",
    "    for epoch in range(epochs):\n",
    "        # Loop over all batches\n",
    "        n_batches = 5\n",
    "        for batch_i in range(1, n_batches + 1):\n",
    "            for batch_features, batch_labels in helper.load_preprocess_training_batch(batch_i, batch_size):\n",
    "                train_neural_network(sess, optimizer, keep_probability, batch_features, batch_labels)\n",
    "            print('Epoch {:>2}, CIFAR-10 Batch {}:  '.format(epoch + 1, batch_i), end='')\n",
    "            print_stats(sess, batch_features, batch_labels, cost, accuracy)\n",
    "            \n",
    "    # Save Model\n",
    "    saver = tf.train.Saver()\n",
    "    save_path = saver.save(sess, save_model_path)"
   ]
  },
  {
   "cell_type": "markdown",
   "metadata": {
    "deletable": true,
    "editable": true
   },
   "source": [
    "# Checkpoint\n",
    "The model has been saved to disk.\n",
    "## Test Model\n",
    "Test your model against the test dataset.  This will be your final accuracy. You should have an accuracy greater than 50%. If you don't, keep tweaking the model architecture and parameters."
   ]
  },
  {
   "cell_type": "code",
   "execution_count": 18,
   "metadata": {
    "collapsed": false,
    "deletable": true,
    "editable": true
   },
   "outputs": [
    {
     "name": "stdout",
     "output_type": "stream",
     "text": [
      "Testing Accuracy: 0.65703125\n",
      "\n"
     ]
    },
    {
     "data": {
      "image/png": "[encoded data removed]",
      "text/plain": [
       "<matplotlib.figure.Figure at 0x7f74b4240940>"
      ]
     },
     "metadata": {
      "image/png": {
       "height": 319,
       "width": 355
      }
     },
     "output_type": "display_data"
    }
   ],
   "source": [
    "\"\"\"\n",
    "DON'T MODIFY ANYTHING IN THIS CELL\n",
    "\"\"\"\n",
    "%matplotlib inline\n",
    "%config InlineBackend.figure_format = 'retina'\n",
    "\n",
    "import tensorflow as tf\n",
    "import pickle\n",
    "import helper\n",
    "import random\n",
    "\n",
    "# Set batch size if not already set\n",
    "try:\n",
    "    if batch_size:\n",
    "        pass\n",
    "except NameError:\n",
    "    batch_size = 64\n",
    "\n",
    "save_model_path = './image_classification'\n",
    "n_samples = 4\n",
    "top_n_predictions = 3\n",
    "\n",
    "def test_model():\n",
    "    \"\"\"\n",
    "    Test the saved model against the test dataset\n",
    "    \"\"\"\n",
    "\n",
    "    test_features, test_labels = pickle.load(open('preprocess_training.p', mode='rb'))\n",
    "    loaded_graph = tf.Graph()\n",
    "\n",
    "    with tf.Session(graph=loaded_graph) as sess:\n",
    "        # Load model\n",
    "        loader = tf.train.import_meta_graph(save_model_path + '.meta')\n",
    "        loader.restore(sess, save_model_path)\n",
    "\n",
    "        # Get Tensors from loaded model\n",
    "        loaded_x = loaded_graph.get_tensor_by_name('x:0')\n",
    "        loaded_y = loaded_graph.get_tensor_by_name('y:0')\n",
    "        loaded_keep_prob = loaded_graph.get_tensor_by_name('keep_prob:0')\n",
    "        loaded_logits = loaded_graph.get_tensor_by_name('logits:0')\n",
    "        loaded_acc = loaded_graph.get_tensor_by_name('accuracy:0')\n",
    "        \n",
    "        # Get accuracy in batches for memory limitations\n",
    "        test_batch_acc_total = 0\n",
    "        test_batch_count = 0\n",
    "        \n",
    "        for train_feature_batch, train_label_batch in helper.batch_features_labels(test_features, test_labels, batch_size):\n",
    "            test_batch_acc_total += sess.run(\n",
    "                loaded_acc,\n",
    "                feed_dict={loaded_x: train_feature_batch, loaded_y: train_label_batch, loaded_keep_prob: 1.0})\n",
    "            test_batch_count += 1\n",
    "\n",
    "        print('Testing Accuracy: {}\\n'.format(test_batch_acc_total/test_batch_count))\n",
    "\n",
    "        # Print Random Samples\n",
    "        random_test_features, random_test_labels = tuple(zip(*random.sample(list(zip(test_features, test_labels)), n_samples)))\n",
    "        random_test_predictions = sess.run(\n",
    "            tf.nn.top_k(tf.nn.softmax(loaded_logits), top_n_predictions),\n",
    "            feed_dict={loaded_x: random_test_features, loaded_y: random_test_labels, loaded_keep_prob: 1.0})\n",
    "        helper.display_image_predictions(random_test_features, random_test_labels, random_test_predictions)\n",
    "\n",
    "\n",
    "test_model()"
   ]
  },
  {
   "cell_type": "markdown",
   "metadata": {
    "deletable": true,
    "editable": true
   },
   "source": [
    "## Why 50-70% Accuracy?\n",
    "You might be wondering why you can't get an accuracy any higher. First things first, 50% isn't bad for a simple CNN.  Pure guessing would get you 10% accuracy. However, you might notice people are getting scores [well above 70%](http://rodrigob.github.io/are_we_there_yet/build/classification_datasets_results.html#43494641522d3130).  That's because we haven't taught you all there is to know about neural networks. We still need to cover a few more techniques.\n",
    "## Submitting This Project\n",
    "When submitting this project, make sure to run all the cells before saving the notebook.  Save the notebook file as \"dlnd_image_classification.ipynb\" and save it as a HTML file under \"File\" -> \"Download as\".  Include the \"helper.py\" and \"problem_unittests.py\" files in your submission."
   ]
  }
 ],
 "metadata": {
  "kernelspec": {
   "display_name": "Python 3",
   "language": "python",
   "name": "python3"
  },
  "language_info": {
   "codemirror_mode": {
    "name": "ipython",
    "version": 3
   },
   "file_extension": ".py",
   "mimetype": "text/x-python",
   "name": "python",
   "nbconvert_exporter": "python",
   "pygments_lexer": "ipython3",
   "version": "3.5.3"
  }
 },
 "nbformat": 4,
 "nbformat_minor": 0
}
